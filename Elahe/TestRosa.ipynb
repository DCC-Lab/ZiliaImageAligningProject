{
 "cells": [
  {
   "cell_type": "code",
   "execution_count": 30,
   "id": "focal-elizabeth",
   "metadata": {},
   "outputs": [],
   "source": [
    "import logging\n",
    "import time\n",
    "from cv2 import (\n",
    "    findContours,\n",
    "    contourArea,\n",
    "    threshold,\n",
    "    THRESH_BINARY,\n",
    "    RETR_TREE,\n",
    "    CHAIN_APPROX_SIMPLE,\n",
    "    minEnclosingCircle, \n",
    "    minAreaRect,\n",
    "    THRESH_TOZERO,\n",
    "    circle,\n",
    "    COLOR_BGR2GRAY,\n",
    "    cvtColor,\n",
    "    morphologyEx,\n",
    "    MORPH_CLOSE\n",
    "    )\n",
    "import cv2\n",
    "from fractions import Fraction\n",
    "from decimal import Decimal\n",
    "import numpy as np\n",
    "from math import pi\n",
    "from typing import TYPE_CHECKING\n",
    "\n",
    "LOGGER = logging.getLogger(__name__)\n",
    "\n",
    "ECCENTRICITY_CRITERIA = 0.7\n",
    "IS_CONTOUR_EMPTY_CRITERIA = 0.4\n",
    "\n",
    "R_25_um = 10/2048\n",
    "R_75_um = 30/2048\n",
    "\n",
    "R_TH_100um = 44/2048\n",
    "R_TH_200um = 80/2048\n",
    "R_300_um = 100/2048\n",
    "\n",
    "R_TH = R_TH_200um\n",
    "ALGO_TIMEOUT_IN_SECONDS = 0.05\n",
    "\n",
    "\n",
    "def extract_gray_map_from_red_channel(image):\n",
    "    b = image[:,:,0]\n",
    "    r = image[:,:,2]\n",
    "    red_channel = r >= b\n",
    "\n",
    "    gray_level_img = cvtColor(image, COLOR_BGR2GRAY)\n",
    "\n",
    "    out_img = red_channel*gray_level_img\n",
    "\n",
    "    out_img = out_img.astype(np.uint8)\n",
    "    return out_img\n",
    "\n",
    "class ConnectedComponents:\n",
    "    def __init__(self):\n",
    "        self.area_list = []\n",
    "        self.centroid_list = []\n",
    "        self.minor_axis_list = []\n",
    "        self.major_axis_list = []\n",
    "        self.radius_list = []\n",
    "        self.contour = []\n",
    "\n",
    "    def get_properties_connected_component(self, binary_image):\n",
    "        try:\n",
    "            _, contours, _ = findContours(\n",
    "                binary_image, RETR_TREE, CHAIN_APPROX_SIMPLE)\n",
    "        except:\n",
    "            contours, _ = findContours(\n",
    "                binary_image, RETR_TREE, CHAIN_APPROX_SIMPLE)\n",
    "        \n",
    "        for cntr in contours:\n",
    "            if len(cntr) > 4:\n",
    "                area = contourArea(cntr)\n",
    "                if int(area) > 15:\n",
    "                    \n",
    "                    center, radius = minEnclosingCircle(cntr)\n",
    "                    \n",
    "                    (_,_), (major_axis, minor_axis), _ = minAreaRect(cntr)\n",
    "\n",
    "                    \n",
    "                    self.centroid_list.append(center)\n",
    "                    self.radius_list.append(radius)\n",
    "                    area = pi * radius * radius\n",
    "                    self.area_list.append(area)\n",
    "                    self.major_axis_list.append(minor_axis / 2)\n",
    "                    self.minor_axis_list.append(major_axis / 2)\n",
    "                    self.contour.append(cntr)\n",
    "    \n",
    "def analyze_binary_image_for_rosa(binary_image):\n",
    "\n",
    "    in_img_size = binary_image.shape\n",
    "\n",
    "    cc = ConnectedComponents()\n",
    "    cc.get_properties_connected_component(binary_image)\n",
    "    if len(cc.area_list) >= 15:\n",
    "        return False, 0, 0, 0\n",
    "\n",
    "    t = time.time()\n",
    "    list_idx = np.flip(np.argsort(cc.area_list), 0)\n",
    "\n",
    "    if len(cc.area_list) > 0:\n",
    "        area_number = len(cc.area_list)\n",
    "        if area_number > 1:\n",
    "            LOGGER.debug(\"Multiple areas:\" + str(area_number))\n",
    "        for idx in list_idx:\n",
    "            circle_centroid = cc.centroid_list[idx]\n",
    "            circle_radius = cc.radius_list[idx]\n",
    "            if int(circle_radius) > int(R_75_um * in_img_size[0]) and int(circle_radius) <= int(R_300_um * in_img_size[0]):\n",
    "                minor_axis = np.min([cc.minor_axis_list[idx], cc.major_axis_list[idx]])\n",
    "                major_axis = np.max([cc.minor_axis_list[idx], cc.major_axis_list[idx]])\n",
    "                is_a_circle = minor_axis/major_axis > ECCENTRICITY_CRITERIA\n",
    "                if is_a_circle:\n",
    "                    return True, float(circle_centroid[1]), float(circle_centroid[0]), float(circle_radius)\n",
    "    return False, 0, 0, 0\n",
    "    \n",
    "\n",
    "def format_blob(in_image, laser_spot_parameter):\n",
    "    captor_ratio = 1.18\n",
    "    c_h, c_w, radius, found = laser_spot_parameter\n",
    "    h, w = in_image.shape[0], in_image.shape[1]\n",
    "\n",
    "    rectangle_height = min(h,w)\n",
    "    rectangle_width = max(h,w)\n",
    "\n",
    "    r, c = c_w, c_h\n",
    "\n",
    "    radius = int(radius)\n",
    "    blob = {\n",
    "        'center': {\n",
    "            \"x\": r / rectangle_width,\n",
    "            \"y\": c / rectangle_height,\n",
    "            \"rx\": r,\n",
    "            \"ry\": c},\n",
    "        'radius': float(\n",
    "            Fraction(\n",
    "                Fraction(\n",
    "                    Decimal(radius)),\n",
    "                h)),\n",
    "        'rradius': radius,\n",
    "        'found': found}\n",
    "    return blob\n",
    "\n",
    "\n",
    "def format_image(in_image: np.ndarray) -> np.ndarray:\n",
    "    out_image = np.array(in_image, dtype=np.uint8)\n",
    "    return out_image\n",
    "\n",
    "def fine_tune_rosa_detection(red_channel, c_h, c_w, radius):\n",
    "    h, w = np.shape(red_channel)\n",
    "    c_h, c_w = int(c_h), int(c_w)\n",
    "\n",
    "    c_h_orig, c_w_orig = int(c_h), int(c_w)\n",
    "    original_radius = int(radius)\n",
    "\n",
    "    h_crop = h/8\n",
    "    w_crop = w/8\n",
    "    h_min = np.amax([int(c_h-h_crop), 0])\n",
    "    h_max = np.amin([int(c_h+h_crop), h])\n",
    "    \n",
    "    w_min = np.amax([int(c_w-w_crop), 0])\n",
    "    w_max = np.amin([int(c_w+w_crop), h])\n",
    "\n",
    "    crop_img = red_channel[h_min:h_max, w_min:w_max]\n",
    "\n",
    "    new_img = np.zeros((h,w))\n",
    "    new_img[h_min:h_max, w_min:w_max] = crop_img\n",
    "    perc = int(np.max([np.percentile(crop_img, 95) - 1, 0]))\n",
    "\n",
    "    in_img_size = red_channel.shape\n",
    "    if int(perc) == 0:\n",
    "        return c_h, c_w, original_radius\n",
    " \n",
    "    else:\n",
    "        _, binary_image = threshold(new_img, int(perc), 255, THRESH_BINARY)\n",
    "\n",
    "        binary_image = binary_image.astype(np.uint8)\n",
    "        found, c_h, c_w, radius = analyze_binary_image_for_rosa(binary_image)\n",
    "        if found:\n",
    "            return c_h, c_w, radius\n",
    "        else:\n",
    "            return c_h_orig, c_w_orig, original_radius\n",
    "    return c_h_orig, c_w_orig, original_radius\n",
    "\n",
    "\n",
    "def find_laser_spot_main_call(in_image: np.ndarray):\n",
    "    formatted_image = format_image(in_image)\n",
    "\n",
    "    time_start = time.time()\n",
    "    red_channel = extract_gray_map_from_red_channel(formatted_image)\n",
    "    max_value_red_channel = np.max(red_channel)\n",
    " \n",
    "    found, rec_time, c_h, c_w, radius = find_laser_spot_recursive(\n",
    "        red_channel, 0.95, max_value_red_channel, time_start, 0)\n",
    "\n",
    "    if found:\n",
    "        c_h, c_w, fine_tuned_radius = fine_tune_rosa_detection(red_channel, c_h, c_w, radius)\n",
    "        radius = fine_tuned_radius\n",
    "\n",
    "    blob = format_blob(in_image, [c_h, c_w, radius, found])\n",
    "    time_elapsed = (time.time() - time_start)\n",
    "\n",
    "    laser_found = \"Laser found\" if found else \"Laser NOT found\"\n",
    "\n",
    "    LOGGER.warning(\n",
    "        str.format(\n",
    "            \"{0}. Took {1}. Recursive count {2}\",\n",
    "            laser_found,\n",
    "            str(time_elapsed),\n",
    "            str(rec_time)))\n",
    "\n",
    "    return blob, rec_time, found\n",
    "\n",
    "\n",
    "def find_laser_spot_recursive(red_channel, thr, max_value, start_time, rec_time):\n",
    "    rec_time = rec_time + 1\n",
    "\n",
    "    binary_image = binarize_laser_image(red_channel, thr, max_value)\n",
    "\n",
    "    current_time = time.time() - start_time\n",
    "    if current_time > ALGO_TIMEOUT_IN_SECONDS:\n",
    "        LOGGER.warning(\n",
    "            str.format(\n",
    "                \"Laser spot not found - too long: Took {0} for {1} iteration.\",\n",
    "                str(current_time),\n",
    "                rec_time))\n",
    "        return False, rec_time, 0, 0, 0\n",
    "\n",
    "    if thr < 0.4:\n",
    "        LOGGER.debug(\n",
    "            str.format(\n",
    "                \"Laser spot not found after {0} iteration in {1}\",\n",
    "                rec_time,\n",
    "                str(current_time)))\n",
    "        return False, rec_time, 0, 0, 0\n",
    "\n",
    "    found, c_h, c_w, circle_radius = analyze_binary_image_for_rosa(binary_image)\n",
    "    if found:\n",
    "        return True, rec_time, c_h, c_w, circle_radius\n",
    "    \n",
    "    else:\n",
    "        th = thr - 0.1\n",
    "        return find_laser_spot_recursive(red_channel, th, max_value, start_time, rec_time)\n",
    "\n",
    "\n",
    "def binarize_laser_image(input_image, thresh, max_value):\n",
    "    gray_image = input_image\n",
    "    max = max_value\n",
    "\n",
    "    half_range = 3\n",
    "    retval, binary_image = threshold(\n",
    "        gray_image, int(max * thresh)-half_range, 255, THRESH_TOZERO)\n",
    "    retval, binary_image = threshold(\n",
    "        binary_image, int(max * thresh)+half_range, 255, THRESH_BINARY)\n",
    "    \n",
    "\n",
    "    return binary_image\n",
    "\n",
    "\n",
    "# if __name__ == \"__main__\":\n",
    "def mainRosa(image_path):\n",
    "    import matplotlib.pyplot as plt\n",
    "    import os\n",
    "#     path = os.path.abspath(os.getcwd())\n",
    "#     image_path = os.path.join(path, 'eye5-92-3097_laser.jpeg')\n",
    "    # image_path = os.path.join(path, 'eye1-39-2521_laser.jpeg')\n",
    "#     image_path='./2222/002.jpg'\n",
    "\n",
    "    image = cv2.imread(image_path)\n",
    "    image_size = image.shape\n",
    "\n",
    "    blob, rec_time, found = find_laser_spot_main_call(image)\n",
    "    \n",
    "#     center = (int(blob['center']['x']*image_size[1]), int(blob['center']['y']*image_size[0]))\n",
    "#     radius = int(blob['radius']*image_size[0])\n",
    "#     cv2.circle(image, center, radius, (255,0,0), 2)\n",
    "\n",
    "#     image_rgb = cv2.cvtColor(image, cv2.COLOR_BGR2RGB)\n",
    "#     plt.imshow(image_rgb)\n",
    "#     plt.show()\n",
    "\n",
    "\n",
    "    return blob\n",
    "\n",
    "    #the find_laser_spot function takes a bgr image as input, won't work if you give rgb image\n"
   ]
  },
  {
   "cell_type": "code",
   "execution_count": 20,
   "id": "wanted-clinton",
   "metadata": {},
   "outputs": [
    {
     "name": "stderr",
     "output_type": "stream",
     "text": [
      "Laser found. Took 0.10645318031311035. Recursive count 2\n"
     ]
    },
    {
     "data": {
      "image/png": "[encoded data removed]",
      "text/plain": [
       "<Figure size 432x288 with 1 Axes>"
      ]
     },
     "metadata": {
      "needs_background": "light"
     },
     "output_type": "display_data"
    },
    {
     "name": "stdout",
     "output_type": "stream",
     "text": [
      "{'center': {'x': 0.30699337230009194, 'y': 0.2336244136095047, 'rx': 751.519775390625, 'ry': 478.4627990722656}, 'radius': 0.03955078125, 'rradius': 81, 'found': True}\n"
     ]
    }
   ],
   "source": [
    "path='./2222/012.jpg'\n",
    "blob=mainRosa(path)\n",
    "print(blob)"
   ]
  },
  {
   "cell_type": "code",
   "execution_count": 51,
   "id": "voluntary-outline",
   "metadata": {},
   "outputs": [
    {
     "name": "stderr",
     "output_type": "stream",
     "text": [
      "Laser spot not found - too long: Took 0.05701088905334473 for 1 iteration.\n",
      "Laser NOT found. Took 0.05963897705078125. Recursive count 1\n"
     ]
    },
    {
     "name": "stdout",
     "output_type": "stream",
     "text": [
      "2\n",
      "./zilia/singe26/oeilDroit_singe26/20200303_100701_psr/002.jpg\n",
      "4\n",
      "./zilia/singe26/oeilDroit_singe26/20200303_100701_psr/004.jpg\n"
     ]
    },
    {
     "name": "stderr",
     "output_type": "stream",
     "text": [
      "Laser found. Took 0.11468720436096191. Recursive count 2\n"
     ]
    },
    {
     "name": "stdout",
     "output_type": "stream",
     "text": [
      "4\n",
      "6\n",
      "./zilia/singe26/oeilDroit_singe26/20200303_100701_psr/006.jpg\n"
     ]
    },
    {
     "name": "stderr",
     "output_type": "stream",
     "text": [
      "Laser found. Took 0.06490516662597656. Recursive count 2\n"
     ]
    },
    {
     "name": "stdout",
     "output_type": "stream",
     "text": [
      "6\n",
      "8\n",
      "./zilia/singe26/oeilDroit_singe26/20200303_100701_psr/008.jpg\n"
     ]
    },
    {
     "name": "stderr",
     "output_type": "stream",
     "text": [
      "Laser found. Took 0.06771588325500488. Recursive count 3\n"
     ]
    },
    {
     "name": "stdout",
     "output_type": "stream",
     "text": [
      "8\n",
      "10\n",
      "./zilia/singe26/oeilDroit_singe26/20200303_100701_psr/010.jpg\n"
     ]
    },
    {
     "name": "stderr",
     "output_type": "stream",
     "text": [
      "Laser found. Took 0.08888983726501465. Recursive count 3\n"
     ]
    },
    {
     "name": "stdout",
     "output_type": "stream",
     "text": [
      "10\n"
     ]
    },
    {
     "name": "stderr",
     "output_type": "stream",
     "text": [
      "Laser found. Took 0.059350013732910156. Recursive count 2\n"
     ]
    },
    {
     "name": "stdout",
     "output_type": "stream",
     "text": [
      "12\n",
      "./zilia/singe26/oeilDroit_singe26/20200303_100701_psr/012.jpg\n",
      "12\n"
     ]
    },
    {
     "name": "stderr",
     "output_type": "stream",
     "text": [
      "Laser found. Took 0.054112911224365234. Recursive count 2\n"
     ]
    },
    {
     "name": "stdout",
     "output_type": "stream",
     "text": [
      "14\n",
      "./zilia/singe26/oeilDroit_singe26/20200303_100701_psr/014.jpg\n",
      "14\n",
      "16\n",
      "./zilia/singe26/oeilDroit_singe26/20200303_100701_psr/016.jpg\n"
     ]
    },
    {
     "name": "stderr",
     "output_type": "stream",
     "text": [
      "Laser found. Took 0.06650304794311523. Recursive count 3\n"
     ]
    },
    {
     "name": "stdout",
     "output_type": "stream",
     "text": [
      "16\n"
     ]
    },
    {
     "name": "stderr",
     "output_type": "stream",
     "text": [
      "Laser found. Took 0.05970597267150879. Recursive count 2\n"
     ]
    },
    {
     "name": "stdout",
     "output_type": "stream",
     "text": [
      "18\n",
      "./zilia/singe26/oeilDroit_singe26/20200303_100701_psr/018.jpg\n",
      "18\n"
     ]
    },
    {
     "name": "stderr",
     "output_type": "stream",
     "text": [
      "Laser found. Took 0.058827877044677734. Recursive count 2\n"
     ]
    },
    {
     "name": "stdout",
     "output_type": "stream",
     "text": [
      "20\n",
      "./zilia/singe26/oeilDroit_singe26/20200303_100701_psr/020.jpg\n",
      "20\n"
     ]
    },
    {
     "name": "stderr",
     "output_type": "stream",
     "text": [
      "Laser found. Took 0.05477786064147949. Recursive count 2\n"
     ]
    },
    {
     "name": "stdout",
     "output_type": "stream",
     "text": [
      "22\n",
      "./zilia/singe26/oeilDroit_singe26/20200303_100701_psr/022.jpg\n",
      "22\n"
     ]
    },
    {
     "name": "stderr",
     "output_type": "stream",
     "text": [
      "Laser found. Took 0.06447076797485352. Recursive count 3\n"
     ]
    },
    {
     "name": "stdout",
     "output_type": "stream",
     "text": [
      "24\n",
      "./zilia/singe26/oeilDroit_singe26/20200303_100701_psr/024.jpg\n",
      "24\n"
     ]
    },
    {
     "name": "stderr",
     "output_type": "stream",
     "text": [
      "Laser found. Took 0.056413888931274414. Recursive count 2\n"
     ]
    },
    {
     "name": "stdout",
     "output_type": "stream",
     "text": [
      "26\n",
      "./zilia/singe26/oeilDroit_singe26/20200303_100701_psr/026.jpg\n",
      "26\n",
      "28\n",
      "./zilia/singe26/oeilDroit_singe26/20200303_100701_psr/028.jpg\n"
     ]
    },
    {
     "name": "stderr",
     "output_type": "stream",
     "text": [
      "Laser spot not found - too long: Took 0.05674600601196289 for 2 iteration.\n",
      "Laser NOT found. Took 0.09231996536254883. Recursive count 2\n",
      "Laser found. Took 0.05835294723510742. Recursive count 2\n"
     ]
    },
    {
     "name": "stdout",
     "output_type": "stream",
     "text": [
      "30\n",
      "./zilia/singe26/oeilDroit_singe26/20200303_100701_psr/030.jpg\n",
      "30\n",
      "32\n",
      "./zilia/singe26/oeilDroit_singe26/20200303_100701_psr/032.jpg\n"
     ]
    },
    {
     "name": "stderr",
     "output_type": "stream",
     "text": [
      "Laser found. Took 0.19756793975830078. Recursive count 2\n"
     ]
    },
    {
     "name": "stdout",
     "output_type": "stream",
     "text": [
      "32\n"
     ]
    },
    {
     "name": "stderr",
     "output_type": "stream",
     "text": [
      "Laser found. Took 0.061102867126464844. Recursive count 3\n"
     ]
    },
    {
     "name": "stdout",
     "output_type": "stream",
     "text": [
      "34\n",
      "./zilia/singe26/oeilDroit_singe26/20200303_100701_psr/034.jpg\n",
      "34\n"
     ]
    },
    {
     "name": "stderr",
     "output_type": "stream",
     "text": [
      "Laser found. Took 0.061280012130737305. Recursive count 2\n"
     ]
    },
    {
     "name": "stdout",
     "output_type": "stream",
     "text": [
      "36\n",
      "./zilia/singe26/oeilDroit_singe26/20200303_100701_psr/036.jpg\n",
      "36\n"
     ]
    },
    {
     "name": "stderr",
     "output_type": "stream",
     "text": [
      "Laser found. Took 0.05426216125488281. Recursive count 2\n"
     ]
    },
    {
     "name": "stdout",
     "output_type": "stream",
     "text": [
      "38\n",
      "./zilia/singe26/oeilDroit_singe26/20200303_100701_psr/038.jpg\n",
      "38\n"
     ]
    },
    {
     "name": "stderr",
     "output_type": "stream",
     "text": [
      "Laser found. Took 0.06410813331604004. Recursive count 3\n"
     ]
    },
    {
     "name": "stdout",
     "output_type": "stream",
     "text": [
      "40\n",
      "./zilia/singe26/oeilDroit_singe26/20200303_100701_psr/040.jpg\n",
      "40\n",
      "42\n",
      "./zilia/singe26/oeilDroit_singe26/20200303_100701_psr/042.jpg\n"
     ]
    },
    {
     "name": "stderr",
     "output_type": "stream",
     "text": [
      "Laser found. Took 0.08213376998901367. Recursive count 2\n"
     ]
    },
    {
     "name": "stdout",
     "output_type": "stream",
     "text": [
      "42\n"
     ]
    },
    {
     "name": "stderr",
     "output_type": "stream",
     "text": [
      "Laser found. Took 0.07293486595153809. Recursive count 2\n"
     ]
    },
    {
     "name": "stdout",
     "output_type": "stream",
     "text": [
      "44\n",
      "./zilia/singe26/oeilDroit_singe26/20200303_100701_psr/044.jpg\n",
      "44\n"
     ]
    },
    {
     "name": "stderr",
     "output_type": "stream",
     "text": [
      "Laser found. Took 0.054672956466674805. Recursive count 2\n"
     ]
    },
    {
     "name": "stdout",
     "output_type": "stream",
     "text": [
      "46\n",
      "./zilia/singe26/oeilDroit_singe26/20200303_100701_psr/046.jpg\n",
      "46\n"
     ]
    },
    {
     "name": "stderr",
     "output_type": "stream",
     "text": [
      "Laser found. Took 0.060486793518066406. Recursive count 2\n"
     ]
    },
    {
     "name": "stdout",
     "output_type": "stream",
     "text": [
      "48\n",
      "./zilia/singe26/oeilDroit_singe26/20200303_100701_psr/048.jpg\n",
      "48\n"
     ]
    },
    {
     "name": "stderr",
     "output_type": "stream",
     "text": [
      "Laser found. Took 0.08844184875488281. Recursive count 3\n"
     ]
    },
    {
     "name": "stdout",
     "output_type": "stream",
     "text": [
      "50\n",
      "./zilia/singe26/oeilDroit_singe26/20200303_100701_psr/050.jpg\n",
      "50\n"
     ]
    },
    {
     "name": "stderr",
     "output_type": "stream",
     "text": [
      "Laser found. Took 0.05463600158691406. Recursive count 2\n"
     ]
    },
    {
     "name": "stdout",
     "output_type": "stream",
     "text": [
      "52\n",
      "./zilia/singe26/oeilDroit_singe26/20200303_100701_psr/052.jpg\n",
      "52\n"
     ]
    },
    {
     "name": "stderr",
     "output_type": "stream",
     "text": [
      "Laser found. Took 0.08308720588684082. Recursive count 3\n"
     ]
    },
    {
     "name": "stdout",
     "output_type": "stream",
     "text": [
      "54\n",
      "./zilia/singe26/oeilDroit_singe26/20200303_100701_psr/054.jpg\n",
      "54\n"
     ]
    },
    {
     "name": "stderr",
     "output_type": "stream",
     "text": [
      "Laser found. Took 0.09177112579345703. Recursive count 3\n"
     ]
    },
    {
     "name": "stdout",
     "output_type": "stream",
     "text": [
      "56\n",
      "./zilia/singe26/oeilDroit_singe26/20200303_100701_psr/056.jpg\n",
      "56\n"
     ]
    },
    {
     "name": "stderr",
     "output_type": "stream",
     "text": [
      "Laser found. Took 0.08634710311889648. Recursive count 4\n"
     ]
    },
    {
     "name": "stdout",
     "output_type": "stream",
     "text": [
      "58\n",
      "./zilia/singe26/oeilDroit_singe26/20200303_100701_psr/058.jpg\n",
      "58\n"
     ]
    },
    {
     "name": "stderr",
     "output_type": "stream",
     "text": [
      "Laser found. Took 0.06988191604614258. Recursive count 3\n"
     ]
    },
    {
     "name": "stdout",
     "output_type": "stream",
     "text": [
      "60\n",
      "./zilia/singe26/oeilDroit_singe26/20200303_100701_psr/060.jpg\n",
      "60\n"
     ]
    },
    {
     "name": "stderr",
     "output_type": "stream",
     "text": [
      "Laser found. Took 0.07081007957458496. Recursive count 3\n"
     ]
    },
    {
     "name": "stdout",
     "output_type": "stream",
     "text": [
      "62\n",
      "./zilia/singe26/oeilDroit_singe26/20200303_100701_psr/062.jpg\n",
      "62\n"
     ]
    },
    {
     "name": "stderr",
     "output_type": "stream",
     "text": [
      "Laser found. Took 0.0671539306640625. Recursive count 2\n"
     ]
    },
    {
     "name": "stdout",
     "output_type": "stream",
     "text": [
      "64\n",
      "./zilia/singe26/oeilDroit_singe26/20200303_100701_psr/064.jpg\n",
      "64\n"
     ]
    },
    {
     "name": "stderr",
     "output_type": "stream",
     "text": [
      "Laser found. Took 0.09454679489135742. Recursive count 2\n"
     ]
    },
    {
     "name": "stdout",
     "output_type": "stream",
     "text": [
      "66\n",
      "./zilia/singe26/oeilDroit_singe26/20200303_100701_psr/066.jpg\n",
      "66\n"
     ]
    },
    {
     "name": "stderr",
     "output_type": "stream",
     "text": [
      "Laser found. Took 0.06377506256103516. Recursive count 2\n"
     ]
    },
    {
     "name": "stdout",
     "output_type": "stream",
     "text": [
      "68\n",
      "./zilia/singe26/oeilDroit_singe26/20200303_100701_psr/068.jpg\n",
      "68\n"
     ]
    },
    {
     "name": "stderr",
     "output_type": "stream",
     "text": [
      "Laser found. Took 0.09602689743041992. Recursive count 2\n"
     ]
    },
    {
     "name": "stdout",
     "output_type": "stream",
     "text": [
      "70\n",
      "./zilia/singe26/oeilDroit_singe26/20200303_100701_psr/070.jpg\n",
      "70\n"
     ]
    },
    {
     "name": "stderr",
     "output_type": "stream",
     "text": [
      "Laser found. Took 0.07268095016479492. Recursive count 3\n"
     ]
    },
    {
     "name": "stdout",
     "output_type": "stream",
     "text": [
      "72\n",
      "./zilia/singe26/oeilDroit_singe26/20200303_100701_psr/072.jpg\n",
      "72\n"
     ]
    },
    {
     "name": "stderr",
     "output_type": "stream",
     "text": [
      "Laser found. Took 0.09955382347106934. Recursive count 2\n"
     ]
    },
    {
     "name": "stdout",
     "output_type": "stream",
     "text": [
      "74\n",
      "./zilia/singe26/oeilDroit_singe26/20200303_100701_psr/074.jpg\n",
      "74\n"
     ]
    },
    {
     "name": "stderr",
     "output_type": "stream",
     "text": [
      "Laser found. Took 0.07071495056152344. Recursive count 2\n"
     ]
    },
    {
     "name": "stdout",
     "output_type": "stream",
     "text": [
      "76\n",
      "./zilia/singe26/oeilDroit_singe26/20200303_100701_psr/076.jpg\n",
      "76\n"
     ]
    },
    {
     "name": "stderr",
     "output_type": "stream",
     "text": [
      "Laser found. Took 0.08948183059692383. Recursive count 2\n"
     ]
    },
    {
     "name": "stdout",
     "output_type": "stream",
     "text": [
      "78\n",
      "./zilia/singe26/oeilDroit_singe26/20200303_100701_psr/078.jpg\n",
      "78\n"
     ]
    },
    {
     "name": "stderr",
     "output_type": "stream",
     "text": [
      "Laser found. Took 0.06319808959960938. Recursive count 2\n"
     ]
    },
    {
     "name": "stdout",
     "output_type": "stream",
     "text": [
      "80\n",
      "./zilia/singe26/oeilDroit_singe26/20200303_100701_psr/080.jpg\n",
      "80\n"
     ]
    },
    {
     "name": "stderr",
     "output_type": "stream",
     "text": [
      "Laser found. Took 0.09244585037231445. Recursive count 2\n"
     ]
    },
    {
     "name": "stdout",
     "output_type": "stream",
     "text": [
      "82\n",
      "./zilia/singe26/oeilDroit_singe26/20200303_100701_psr/082.jpg\n",
      "82\n"
     ]
    },
    {
     "name": "stderr",
     "output_type": "stream",
     "text": [
      "Laser found. Took 0.05979585647583008. Recursive count 2\n"
     ]
    },
    {
     "name": "stdout",
     "output_type": "stream",
     "text": [
      "84\n",
      "./zilia/singe26/oeilDroit_singe26/20200303_100701_psr/084.jpg\n",
      "84\n",
      "86\n",
      "./zilia/singe26/oeilDroit_singe26/20200303_100701_psr/086.jpg\n"
     ]
    },
    {
     "name": "stderr",
     "output_type": "stream",
     "text": [
      "Laser found. Took 0.1022179126739502. Recursive count 2\n"
     ]
    },
    {
     "name": "stdout",
     "output_type": "stream",
     "text": [
      "86\n"
     ]
    },
    {
     "name": "stderr",
     "output_type": "stream",
     "text": [
      "Laser found. Took 0.06524991989135742. Recursive count 3\n"
     ]
    },
    {
     "name": "stdout",
     "output_type": "stream",
     "text": [
      "88\n",
      "./zilia/singe26/oeilDroit_singe26/20200303_100701_psr/088.jpg\n",
      "88\n"
     ]
    },
    {
     "name": "stderr",
     "output_type": "stream",
     "text": [
      "Laser found. Took 0.07509613037109375. Recursive count 3\n"
     ]
    },
    {
     "name": "stdout",
     "output_type": "stream",
     "text": [
      "90\n",
      "./zilia/singe26/oeilDroit_singe26/20200303_100701_psr/090.jpg\n",
      "90\n"
     ]
    },
    {
     "name": "stderr",
     "output_type": "stream",
     "text": [
      "Laser found. Took 0.059652090072631836. Recursive count 2\n"
     ]
    },
    {
     "name": "stdout",
     "output_type": "stream",
     "text": [
      "92\n",
      "./zilia/singe26/oeilDroit_singe26/20200303_100701_psr/092.jpg\n",
      "92\n"
     ]
    },
    {
     "name": "stderr",
     "output_type": "stream",
     "text": [
      "Laser found. Took 0.06766891479492188. Recursive count 3\n"
     ]
    },
    {
     "name": "stdout",
     "output_type": "stream",
     "text": [
      "94\n",
      "./zilia/singe26/oeilDroit_singe26/20200303_100701_psr/094.jpg\n",
      "94\n"
     ]
    },
    {
     "name": "stderr",
     "output_type": "stream",
     "text": [
      "Laser found. Took 0.09021282196044922. Recursive count 2\n"
     ]
    },
    {
     "name": "stdout",
     "output_type": "stream",
     "text": [
      "96\n",
      "./zilia/singe26/oeilDroit_singe26/20200303_100701_psr/096.jpg\n",
      "96\n"
     ]
    },
    {
     "name": "stderr",
     "output_type": "stream",
     "text": [
      "Laser found. Took 0.06129789352416992. Recursive count 2\n"
     ]
    },
    {
     "name": "stdout",
     "output_type": "stream",
     "text": [
      "98\n",
      "./zilia/singe26/oeilDroit_singe26/20200303_100701_psr/098.jpg\n",
      "98\n"
     ]
    },
    {
     "name": "stderr",
     "output_type": "stream",
     "text": [
      "Laser found. Took 0.062422990798950195. Recursive count 2\n"
     ]
    },
    {
     "name": "stdout",
     "output_type": "stream",
     "text": [
      "100\n",
      "./zilia/singe26/oeilDroit_singe26/20200303_100701_psr/100.jpg\n",
      "100\n",
      "102\n",
      "./zilia/singe26/oeilDroit_singe26/20200303_100701_psr/102.jpg\n"
     ]
    },
    {
     "name": "stderr",
     "output_type": "stream",
     "text": [
      "Laser found. Took 0.14577412605285645. Recursive count 2\n"
     ]
    },
    {
     "name": "stdout",
     "output_type": "stream",
     "text": [
      "102\n"
     ]
    },
    {
     "name": "stderr",
     "output_type": "stream",
     "text": [
      "Laser found. Took 0.0747230052947998. Recursive count 2\n"
     ]
    },
    {
     "name": "stdout",
     "output_type": "stream",
     "text": [
      "104\n",
      "./zilia/singe26/oeilDroit_singe26/20200303_100701_psr/104.jpg\n",
      "104\n"
     ]
    },
    {
     "name": "stderr",
     "output_type": "stream",
     "text": [
      "Laser found. Took 0.0822441577911377. Recursive count 2\n"
     ]
    },
    {
     "name": "stdout",
     "output_type": "stream",
     "text": [
      "106\n",
      "./zilia/singe26/oeilDroit_singe26/20200303_100701_psr/106.jpg\n",
      "106\n"
     ]
    },
    {
     "name": "stderr",
     "output_type": "stream",
     "text": [
      "Laser found. Took 0.07608199119567871. Recursive count 2\n"
     ]
    },
    {
     "name": "stdout",
     "output_type": "stream",
     "text": [
      "108\n",
      "./zilia/singe26/oeilDroit_singe26/20200303_100701_psr/108.jpg\n",
      "108\n"
     ]
    },
    {
     "name": "stderr",
     "output_type": "stream",
     "text": [
      "Laser found. Took 0.0673677921295166. Recursive count 2\n"
     ]
    },
    {
     "name": "stdout",
     "output_type": "stream",
     "text": [
      "110\n",
      "./zilia/singe26/oeilDroit_singe26/20200303_100701_psr/110.jpg\n",
      "110\n"
     ]
    },
    {
     "name": "stderr",
     "output_type": "stream",
     "text": [
      "Laser found. Took 0.08944582939147949. Recursive count 4\n"
     ]
    },
    {
     "name": "stdout",
     "output_type": "stream",
     "text": [
      "112\n",
      "./zilia/singe26/oeilDroit_singe26/20200303_100701_psr/112.jpg\n",
      "112\n"
     ]
    },
    {
     "name": "stderr",
     "output_type": "stream",
     "text": [
      "Laser found. Took 0.10493803024291992. Recursive count 4\n"
     ]
    },
    {
     "name": "stdout",
     "output_type": "stream",
     "text": [
      "114\n",
      "./zilia/singe26/oeilDroit_singe26/20200303_100701_psr/114.jpg\n",
      "114\n"
     ]
    },
    {
     "name": "stderr",
     "output_type": "stream",
     "text": [
      "Laser spot not found - too long: Took 0.05113506317138672 for 5 iteration.\n",
      "Laser NOT found. Took 0.054390668869018555. Recursive count 5\n"
     ]
    },
    {
     "name": "stdout",
     "output_type": "stream",
     "text": [
      "116\n",
      "./zilia/singe26/oeilDroit_singe26/20200303_100701_psr/116.jpg\n"
     ]
    },
    {
     "name": "stderr",
     "output_type": "stream",
     "text": [
      "Laser spot not found - too long: Took 0.05061984062194824 for 6 iteration.\n",
      "Laser NOT found. Took 0.05447864532470703. Recursive count 6\n"
     ]
    },
    {
     "name": "stdout",
     "output_type": "stream",
     "text": [
      "118\n",
      "./zilia/singe26/oeilDroit_singe26/20200303_100701_psr/118.jpg\n"
     ]
    },
    {
     "name": "stderr",
     "output_type": "stream",
     "text": [
      "Laser spot not found - too long: Took 0.10022616386413574 for 7 iteration.\n",
      "Laser NOT found. Took 0.1032259464263916. Recursive count 7\n"
     ]
    },
    {
     "name": "stdout",
     "output_type": "stream",
     "text": [
      "120\n",
      "./zilia/singe26/oeilDroit_singe26/20200303_100701_psr/120.jpg\n"
     ]
    },
    {
     "name": "stderr",
     "output_type": "stream",
     "text": [
      "Laser spot not found - too long: Took 0.05446290969848633 for 6 iteration.\n",
      "Laser NOT found. Took 0.058207035064697266. Recursive count 6\n"
     ]
    },
    {
     "name": "stdout",
     "output_type": "stream",
     "text": [
      "122\n",
      "./zilia/singe26/oeilDroit_singe26/20200303_100701_psr/122.jpg\n"
     ]
    },
    {
     "name": "stderr",
     "output_type": "stream",
     "text": [
      "Laser spot not found - too long: Took 0.0673379898071289 for 6 iteration.\n",
      "Laser NOT found. Took 0.07016515731811523. Recursive count 6\n"
     ]
    },
    {
     "name": "stdout",
     "output_type": "stream",
     "text": [
      "124\n",
      "./zilia/singe26/oeilDroit_singe26/20200303_100701_psr/124.jpg\n"
     ]
    },
    {
     "name": "stderr",
     "output_type": "stream",
     "text": [
      "Laser spot not found - too long: Took 0.0543668270111084 for 6 iteration.\n",
      "Laser NOT found. Took 0.05703902244567871. Recursive count 6\n"
     ]
    },
    {
     "name": "stdout",
     "output_type": "stream",
     "text": [
      "126\n",
      "./zilia/singe26/oeilDroit_singe26/20200303_100701_psr/126.jpg\n",
      "128\n",
      "./zilia/singe26/oeilDroit_singe26/20200303_100701_psr/128.jpg\n"
     ]
    },
    {
     "name": "stderr",
     "output_type": "stream",
     "text": [
      "Laser found. Took 0.1725003719329834. Recursive count 4\n"
     ]
    },
    {
     "name": "stdout",
     "output_type": "stream",
     "text": [
      "128\n"
     ]
    },
    {
     "name": "stderr",
     "output_type": "stream",
     "text": [
      "Laser spot not found - too long: Took 0.05511975288391113 for 4 iteration.\n",
      "Laser NOT found. Took 0.05826401710510254. Recursive count 4\n"
     ]
    },
    {
     "name": "stdout",
     "output_type": "stream",
     "text": [
      "130\n",
      "./zilia/singe26/oeilDroit_singe26/20200303_100701_psr/130.jpg\n"
     ]
    },
    {
     "name": "stderr",
     "output_type": "stream",
     "text": [
      "Laser spot not found - too long: Took 0.06638598442077637 for 6 iteration.\n",
      "Laser NOT found. Took 0.07060694694519043. Recursive count 6\n"
     ]
    },
    {
     "name": "stdout",
     "output_type": "stream",
     "text": [
      "132\n",
      "./zilia/singe26/oeilDroit_singe26/20200303_100701_psr/132.jpg\n"
     ]
    },
    {
     "name": "stderr",
     "output_type": "stream",
     "text": [
      "Laser spot not found - too long: Took 0.06935286521911621 for 6 iteration.\n",
      "Laser NOT found. Took 0.07210183143615723. Recursive count 6\n"
     ]
    },
    {
     "name": "stdout",
     "output_type": "stream",
     "text": [
      "134\n",
      "./zilia/singe26/oeilDroit_singe26/20200303_100701_psr/134.jpg\n"
     ]
    },
    {
     "name": "stderr",
     "output_type": "stream",
     "text": [
      "Laser spot not found - too long: Took 0.10351085662841797 for 6 iteration.\n",
      "Laser NOT found. Took 0.10623002052307129. Recursive count 6\n"
     ]
    },
    {
     "name": "stdout",
     "output_type": "stream",
     "text": [
      "136\n",
      "./zilia/singe26/oeilDroit_singe26/20200303_100701_psr/136.jpg\n"
     ]
    },
    {
     "name": "stderr",
     "output_type": "stream",
     "text": [
      "Laser found. Took 0.0917658805847168. Recursive count 4\n"
     ]
    },
    {
     "name": "stdout",
     "output_type": "stream",
     "text": [
      "138\n",
      "./zilia/singe26/oeilDroit_singe26/20200303_100701_psr/138.jpg\n",
      "138\n"
     ]
    },
    {
     "name": "stderr",
     "output_type": "stream",
     "text": [
      "Laser spot not found - too long: Took 0.06231880187988281 for 5 iteration.\n",
      "Laser NOT found. Took 0.064666748046875. Recursive count 5\n"
     ]
    },
    {
     "name": "stdout",
     "output_type": "stream",
     "text": [
      "140\n",
      "./zilia/singe26/oeilDroit_singe26/20200303_100701_psr/140.jpg\n"
     ]
    },
    {
     "name": "stderr",
     "output_type": "stream",
     "text": [
      "Laser spot not found - too long: Took 0.08260202407836914 for 6 iteration.\n",
      "Laser NOT found. Took 0.08594679832458496. Recursive count 6\n"
     ]
    },
    {
     "name": "stdout",
     "output_type": "stream",
     "text": [
      "142\n",
      "./zilia/singe26/oeilDroit_singe26/20200303_100701_psr/142.jpg\n",
      "144\n",
      "./zilia/singe26/oeilDroit_singe26/20200303_100701_psr/144.jpg\n"
     ]
    },
    {
     "name": "stderr",
     "output_type": "stream",
     "text": [
      "Laser spot not found - too long: Took 0.14524412155151367 for 6 iteration.\n",
      "Laser NOT found. Took 0.15070509910583496. Recursive count 6\n"
     ]
    },
    {
     "name": "stdout",
     "output_type": "stream",
     "text": [
      "146\n",
      "./zilia/singe26/oeilDroit_singe26/20200303_100701_psr/146.jpg\n"
     ]
    },
    {
     "name": "stderr",
     "output_type": "stream",
     "text": [
      "Laser spot not found - too long: Took 0.258469820022583 for 7 iteration.\n",
      "Laser NOT found. Took 0.2618880271911621. Recursive count 7\n",
      "Laser spot not found - too long: Took 0.1207120418548584 for 6 iteration.\n"
     ]
    },
    {
     "name": "stdout",
     "output_type": "stream",
     "text": [
      "148\n",
      "./zilia/singe26/oeilDroit_singe26/20200303_100701_psr/148.jpg\n"
     ]
    },
    {
     "name": "stderr",
     "output_type": "stream",
     "text": [
      "Laser NOT found. Took 0.12726926803588867. Recursive count 6\n",
      "Laser spot not found - too long: Took 0.0544743537902832 for 7 iteration.\n",
      "Laser NOT found. Took 0.057317256927490234. Recursive count 7\n"
     ]
    },
    {
     "name": "stdout",
     "output_type": "stream",
     "text": [
      "150\n",
      "./zilia/singe26/oeilDroit_singe26/20200303_100701_psr/150.jpg\n"
     ]
    },
    {
     "name": "stderr",
     "output_type": "stream",
     "text": [
      "Laser spot not found - too long: Took 0.051054954528808594 for 4 iteration.\n",
      "Laser NOT found. Took 0.05394577980041504. Recursive count 4\n"
     ]
    },
    {
     "name": "stdout",
     "output_type": "stream",
     "text": [
      "152\n",
      "./zilia/singe26/oeilDroit_singe26/20200303_100701_psr/152.jpg\n"
     ]
    },
    {
     "name": "stderr",
     "output_type": "stream",
     "text": [
      "Laser found. Took 0.10672307014465332. Recursive count 5\n"
     ]
    },
    {
     "name": "stdout",
     "output_type": "stream",
     "text": [
      "154\n",
      "./zilia/singe26/oeilDroit_singe26/20200303_100701_psr/154.jpg\n",
      "154\n"
     ]
    },
    {
     "name": "stderr",
     "output_type": "stream",
     "text": [
      "Laser spot not found - too long: Took 0.05866193771362305 for 6 iteration.\n",
      "Laser NOT found. Took 0.06357979774475098. Recursive count 6\n"
     ]
    },
    {
     "name": "stdout",
     "output_type": "stream",
     "text": [
      "156\n",
      "./zilia/singe26/oeilDroit_singe26/20200303_100701_psr/156.jpg\n",
      "158\n",
      "./zilia/singe26/oeilDroit_singe26/20200303_100701_psr/158.jpg\n"
     ]
    },
    {
     "name": "stderr",
     "output_type": "stream",
     "text": [
      "Laser spot not found - too long: Took 0.13813018798828125 for 7 iteration.\n",
      "Laser NOT found. Took 0.14250802993774414. Recursive count 7\n",
      "Laser spot not found - too long: Took 0.05059194564819336 for 4 iteration.\n",
      "Laser NOT found. Took 0.05305767059326172. Recursive count 4\n"
     ]
    },
    {
     "name": "stdout",
     "output_type": "stream",
     "text": [
      "160\n",
      "./zilia/singe26/oeilDroit_singe26/20200303_100701_psr/160.jpg\n"
     ]
    },
    {
     "name": "stderr",
     "output_type": "stream",
     "text": [
      "Laser found. Took 0.10126805305480957. Recursive count 4\n"
     ]
    },
    {
     "name": "stdout",
     "output_type": "stream",
     "text": [
      "162\n",
      "./zilia/singe26/oeilDroit_singe26/20200303_100701_psr/162.jpg\n",
      "162\n"
     ]
    },
    {
     "name": "stderr",
     "output_type": "stream",
     "text": [
      "Laser spot not found - too long: Took 0.05653882026672363 for 7 iteration.\n",
      "Laser NOT found. Took 0.059541940689086914. Recursive count 7\n"
     ]
    },
    {
     "name": "stdout",
     "output_type": "stream",
     "text": [
      "164\n",
      "./zilia/singe26/oeilDroit_singe26/20200303_100701_psr/164.jpg\n"
     ]
    },
    {
     "name": "stderr",
     "output_type": "stream",
     "text": [
      "Laser spot not found - too long: Took 0.054155826568603516 for 7 iteration.\n",
      "Laser NOT found. Took 0.05708885192871094. Recursive count 7\n"
     ]
    },
    {
     "name": "stdout",
     "output_type": "stream",
     "text": [
      "166\n",
      "./zilia/singe26/oeilDroit_singe26/20200303_100701_psr/166.jpg\n"
     ]
    },
    {
     "name": "stderr",
     "output_type": "stream",
     "text": [
      "Laser spot not found - too long: Took 0.05262494087219238 for 7 iteration.\n",
      "Laser NOT found. Took 0.05566072463989258. Recursive count 7\n"
     ]
    },
    {
     "name": "stdout",
     "output_type": "stream",
     "text": [
      "168\n",
      "./zilia/singe26/oeilDroit_singe26/20200303_100701_psr/168.jpg\n"
     ]
    },
    {
     "name": "stderr",
     "output_type": "stream",
     "text": [
      "Laser spot not found - too long: Took 0.053827762603759766 for 7 iteration.\n",
      "Laser NOT found. Took 0.05787801742553711. Recursive count 7\n"
     ]
    },
    {
     "name": "stdout",
     "output_type": "stream",
     "text": [
      "170\n",
      "./zilia/singe26/oeilDroit_singe26/20200303_100701_psr/170.jpg\n"
     ]
    },
    {
     "name": "stderr",
     "output_type": "stream",
     "text": [
      "Laser spot not found - too long: Took 0.054962873458862305 for 7 iteration.\n",
      "Laser NOT found. Took 0.058183908462524414. Recursive count 7\n"
     ]
    },
    {
     "name": "stdout",
     "output_type": "stream",
     "text": [
      "172\n",
      "./zilia/singe26/oeilDroit_singe26/20200303_100701_psr/172.jpg\n"
     ]
    },
    {
     "name": "stderr",
     "output_type": "stream",
     "text": [
      "Laser spot not found - too long: Took 0.05282306671142578 for 6 iteration.\n",
      "Laser NOT found. Took 0.056754112243652344. Recursive count 6\n"
     ]
    },
    {
     "name": "stdout",
     "output_type": "stream",
     "text": [
      "174\n",
      "./zilia/singe26/oeilDroit_singe26/20200303_100701_psr/174.jpg\n"
     ]
    },
    {
     "name": "stderr",
     "output_type": "stream",
     "text": [
      "Laser spot not found - too long: Took 0.055432796478271484 for 7 iteration.\n",
      "Laser NOT found. Took 0.05892491340637207. Recursive count 7\n"
     ]
    },
    {
     "name": "stdout",
     "output_type": "stream",
     "text": [
      "176\n",
      "./zilia/singe26/oeilDroit_singe26/20200303_100701_psr/176.jpg\n"
     ]
    },
    {
     "name": "stderr",
     "output_type": "stream",
     "text": [
      "Laser spot not found - too long: Took 0.055847883224487305 for 7 iteration.\n",
      "Laser NOT found. Took 0.06024789810180664. Recursive count 7\n"
     ]
    },
    {
     "name": "stdout",
     "output_type": "stream",
     "text": [
      "178\n",
      "./zilia/singe26/oeilDroit_singe26/20200303_100701_psr/178.jpg\n"
     ]
    },
    {
     "name": "stderr",
     "output_type": "stream",
     "text": [
      "Laser spot not found - too long: Took 0.05164384841918945 for 6 iteration.\n",
      "Laser NOT found. Took 0.054605722427368164. Recursive count 6\n"
     ]
    },
    {
     "name": "stdout",
     "output_type": "stream",
     "text": [
      "180\n",
      "./zilia/singe26/oeilDroit_singe26/20200303_100701_psr/180.jpg\n"
     ]
    },
    {
     "name": "stderr",
     "output_type": "stream",
     "text": [
      "Laser spot not found - too long: Took 0.050099849700927734 for 6 iteration.\n",
      "Laser NOT found. Took 0.05351901054382324. Recursive count 6\n"
     ]
    },
    {
     "name": "stdout",
     "output_type": "stream",
     "text": [
      "182\n",
      "./zilia/singe26/oeilDroit_singe26/20200303_100701_psr/182.jpg\n"
     ]
    },
    {
     "name": "stderr",
     "output_type": "stream",
     "text": [
      "Laser spot not found - too long: Took 0.05069398880004883 for 5 iteration.\n",
      "Laser NOT found. Took 0.053800106048583984. Recursive count 5\n"
     ]
    },
    {
     "name": "stdout",
     "output_type": "stream",
     "text": [
      "184\n",
      "./zilia/singe26/oeilDroit_singe26/20200303_100701_psr/184.jpg\n"
     ]
    },
    {
     "name": "stderr",
     "output_type": "stream",
     "text": [
      "Laser spot not found - too long: Took 0.06537079811096191 for 4 iteration.\n"
     ]
    },
    {
     "name": "stdout",
     "output_type": "stream",
     "text": [
      "186\n",
      "./zilia/singe26/oeilDroit_singe26/20200303_100701_psr/186.jpg\n"
     ]
    },
    {
     "name": "stderr",
     "output_type": "stream",
     "text": [
      "Laser NOT found. Took 0.07085394859313965. Recursive count 4\n"
     ]
    },
    {
     "name": "stdout",
     "output_type": "stream",
     "text": [
      "188\n",
      "./zilia/singe26/oeilDroit_singe26/20200303_100701_psr/188.jpg\n"
     ]
    },
    {
     "name": "stderr",
     "output_type": "stream",
     "text": [
      "Laser spot not found - too long: Took 0.07464003562927246 for 3 iteration.\n",
      "Laser NOT found. Took 0.07910299301147461. Recursive count 3\n",
      "Laser spot not found - too long: Took 0.05481290817260742 for 6 iteration.\n",
      "Laser NOT found. Took 0.05858302116394043. Recursive count 6\n"
     ]
    },
    {
     "name": "stdout",
     "output_type": "stream",
     "text": [
      "190\n",
      "./zilia/singe26/oeilDroit_singe26/20200303_100701_psr/190.jpg\n"
     ]
    },
    {
     "name": "stderr",
     "output_type": "stream",
     "text": [
      "Laser spot not found - too long: Took 0.0563969612121582 for 7 iteration.\n",
      "Laser NOT found. Took 0.059412240982055664. Recursive count 7\n"
     ]
    },
    {
     "name": "stdout",
     "output_type": "stream",
     "text": [
      "192\n",
      "./zilia/singe26/oeilDroit_singe26/20200303_100701_psr/192.jpg\n"
     ]
    },
    {
     "name": "stderr",
     "output_type": "stream",
     "text": [
      "Laser found. Took 0.08333897590637207. Recursive count 5\n"
     ]
    },
    {
     "name": "stdout",
     "output_type": "stream",
     "text": [
      "194\n",
      "./zilia/singe26/oeilDroit_singe26/20200303_100701_psr/194.jpg\n",
      "194\n"
     ]
    },
    {
     "name": "stderr",
     "output_type": "stream",
     "text": [
      "Laser spot not found - too long: Took 0.052394866943359375 for 3 iteration.\n",
      "Laser NOT found. Took 0.05830502510070801. Recursive count 3\n"
     ]
    },
    {
     "name": "stdout",
     "output_type": "stream",
     "text": [
      "196\n",
      "./zilia/singe26/oeilDroit_singe26/20200303_100701_psr/196.jpg\n"
     ]
    },
    {
     "name": "stderr",
     "output_type": "stream",
     "text": [
      "Laser found. Took 0.10775566101074219. Recursive count 4\n"
     ]
    },
    {
     "name": "stdout",
     "output_type": "stream",
     "text": [
      "198\n",
      "./zilia/singe26/oeilDroit_singe26/20200303_100701_psr/198.jpg\n",
      "198\n"
     ]
    },
    {
     "name": "stderr",
     "output_type": "stream",
     "text": [
      "Laser found. Took 0.08738303184509277. Recursive count 5\n"
     ]
    },
    {
     "name": "stdout",
     "output_type": "stream",
     "text": [
      "200\n",
      "./zilia/singe26/oeilDroit_singe26/20200303_100701_psr/200.jpg\n",
      "200\n"
     ]
    },
    {
     "name": "stderr",
     "output_type": "stream",
     "text": [
      "Laser found. Took 0.08759689331054688. Recursive count 5\n"
     ]
    },
    {
     "name": "stdout",
     "output_type": "stream",
     "text": [
      "202\n",
      "./zilia/singe26/oeilDroit_singe26/20200303_100701_psr/202.jpg\n",
      "202\n"
     ]
    },
    {
     "name": "stderr",
     "output_type": "stream",
     "text": [
      "Laser spot not found - too long: Took 0.0502171516418457 for 5 iteration.\n",
      "Laser NOT found. Took 0.05287790298461914. Recursive count 5\n"
     ]
    },
    {
     "name": "stdout",
     "output_type": "stream",
     "text": [
      "204\n",
      "./zilia/singe26/oeilDroit_singe26/20200303_100701_psr/204.jpg\n"
     ]
    },
    {
     "name": "stderr",
     "output_type": "stream",
     "text": [
      "Laser found. Took 0.09378910064697266. Recursive count 3\n"
     ]
    },
    {
     "name": "stdout",
     "output_type": "stream",
     "text": [
      "206\n",
      "./zilia/singe26/oeilDroit_singe26/20200303_100701_psr/206.jpg\n",
      "206\n"
     ]
    },
    {
     "name": "stderr",
     "output_type": "stream",
     "text": [
      "Laser found. Took 0.11905217170715332. Recursive count 4\n"
     ]
    },
    {
     "name": "stdout",
     "output_type": "stream",
     "text": [
      "208\n",
      "./zilia/singe26/oeilDroit_singe26/20200303_100701_psr/208.jpg\n",
      "208\n",
      "210\n",
      "./zilia/singe26/oeilDroit_singe26/20200303_100701_psr/210.jpg\n"
     ]
    },
    {
     "name": "stderr",
     "output_type": "stream",
     "text": [
      "Laser found. Took 0.11496114730834961. Recursive count 3\n"
     ]
    },
    {
     "name": "stdout",
     "output_type": "stream",
     "text": [
      "210\n"
     ]
    },
    {
     "name": "stderr",
     "output_type": "stream",
     "text": [
      "Laser found. Took 0.07462501525878906. Recursive count 2\n"
     ]
    },
    {
     "name": "stdout",
     "output_type": "stream",
     "text": [
      "212\n",
      "./zilia/singe26/oeilDroit_singe26/20200303_100701_psr/212.jpg\n",
      "212\n"
     ]
    },
    {
     "name": "stderr",
     "output_type": "stream",
     "text": [
      "Laser found. Took 0.0654289722442627. Recursive count 2\n"
     ]
    },
    {
     "name": "stdout",
     "output_type": "stream",
     "text": [
      "214\n",
      "./zilia/singe26/oeilDroit_singe26/20200303_100701_psr/214.jpg\n",
      "214\n"
     ]
    },
    {
     "name": "stderr",
     "output_type": "stream",
     "text": [
      "Laser found. Took 0.07232379913330078. Recursive count 2\n"
     ]
    },
    {
     "name": "stdout",
     "output_type": "stream",
     "text": [
      "216\n",
      "./zilia/singe26/oeilDroit_singe26/20200303_100701_psr/216.jpg\n",
      "216\n"
     ]
    },
    {
     "name": "stderr",
     "output_type": "stream",
     "text": [
      "Laser found. Took 0.09890580177307129. Recursive count 2\n"
     ]
    },
    {
     "name": "stdout",
     "output_type": "stream",
     "text": [
      "218\n",
      "./zilia/singe26/oeilDroit_singe26/20200303_100701_psr/218.jpg\n",
      "218\n"
     ]
    },
    {
     "name": "stderr",
     "output_type": "stream",
     "text": [
      "Laser found. Took 0.061621904373168945. Recursive count 2\n"
     ]
    },
    {
     "name": "stdout",
     "output_type": "stream",
     "text": [
      "220\n",
      "./zilia/singe26/oeilDroit_singe26/20200303_100701_psr/220.jpg\n",
      "220\n"
     ]
    },
    {
     "name": "stderr",
     "output_type": "stream",
     "text": [
      "Laser found. Took 0.0749979019165039. Recursive count 3\n"
     ]
    },
    {
     "name": "stdout",
     "output_type": "stream",
     "text": [
      "222\n",
      "./zilia/singe26/oeilDroit_singe26/20200303_100701_psr/222.jpg\n",
      "222\n"
     ]
    },
    {
     "name": "stderr",
     "output_type": "stream",
     "text": [
      "Laser found. Took 0.073760986328125. Recursive count 3\n"
     ]
    },
    {
     "name": "stdout",
     "output_type": "stream",
     "text": [
      "224\n",
      "./zilia/singe26/oeilDroit_singe26/20200303_100701_psr/224.jpg\n",
      "224\n",
      "226\n",
      "./zilia/singe26/oeilDroit_singe26/20200303_100701_psr/226.jpg\n"
     ]
    },
    {
     "name": "stderr",
     "output_type": "stream",
     "text": [
      "Laser found. Took 0.12329292297363281. Recursive count 2\n"
     ]
    },
    {
     "name": "stdout",
     "output_type": "stream",
     "text": [
      "226\n"
     ]
    },
    {
     "name": "stderr",
     "output_type": "stream",
     "text": [
      "Laser found. Took 0.06239724159240723. Recursive count 2\n"
     ]
    },
    {
     "name": "stdout",
     "output_type": "stream",
     "text": [
      "228\n",
      "./zilia/singe26/oeilDroit_singe26/20200303_100701_psr/228.jpg\n",
      "228\n",
      "(76, 2048, 2448)\n",
      "(76, 2048, 2448)\n",
      "(75,)\n",
      "(75,)\n",
      "(75,)\n"
     ]
    }
   ],
   "source": [
    "from skimage.io import imread_collection\n",
    "from skimage.color import rgb2gray\n",
    "import numpy as np\n",
    "import cv2\n",
    "import matplotlib.pyplot as plt\n",
    "from scipy.ndimage import gaussian_filter\n",
    "import scipy.fftpack as fp\n",
    "from matplotlib import pyplot\n",
    "from scipy.signal import find_peaks\n",
    "from scipy import ndimage\n",
    "import scipy.signal\n",
    "\n",
    "def loadImages(collectionDir):\n",
    "    collectionDir=collectionDir+'*.jpg'\n",
    "    imageCollection = imread_collection(collectionDir)\n",
    "    grayImage=np.zeros((len(imageCollection),imageCollection[0].shape[0],imageCollection[0].shape[1]))\n",
    "    for i in range(len(imageCollection)):\n",
    "        imageCollection[i][:,:,2]=0\n",
    "        grayImage[i,:,:]=rgb2gray(imageCollection[i])\n",
    "    return grayImage\n",
    "        \n",
    "\n",
    "def intensityCheck(Image,laser,xLaser,yLaser,rLaser):\n",
    "    index=np.array([])\n",
    "    ii=np.array([])\n",
    "    for kk in range(Image.shape[0]):\n",
    "        d1=Image[kk,:,:]\n",
    "        d1=256*((d1-np.min(d1))/(np.max(d1)-np.min(d1)))\n",
    "        resLap = cv2.Laplacian(d1, cv2.CV_64F)\n",
    "        score = resLap.var()\n",
    "        ii=np.hstack((ii,score))\n",
    "    T=np.mean(ii)\n",
    "    index=np.where(ii>T)\n",
    "    Image=np.delete(Image,index,axis=0)\n",
    "    laser=np.delete(laser,index,axis=0)\n",
    "    xLaser=np.delete(xLaser,index,axis=0)\n",
    "    yLaser=np.delete(yLaser,index,axis=0)\n",
    "    rLaser=np.delete(rLaser,index,axis=0)\n",
    "    return Image,laser,xLaser,yLaser,rLaser\n",
    "\n",
    "\n",
    "\n",
    "def seperateImages(grayImageCollection,collectionDir):\n",
    "#     imageCollection = imread_collection(collectionDir)\n",
    "    Thresh=np.mean(grayImageCollection)\n",
    "    counter=0\n",
    "    Image=np.empty((1,grayImageCollection.shape[1], grayImageCollection.shape[2]), float)\n",
    "    laserImage=np.empty((1,grayImageCollection.shape[1], grayImageCollection.shape[2]), float)\n",
    "    temp=np.empty((1,grayImage.shape[1], grayImageCollection.shape[2]), float)\n",
    "    xCenter=np.array([])\n",
    "    yCenter=np.array([])\n",
    "    radius=np.array([])\n",
    "    \n",
    "    for i in range(1,grayImageCollection.shape[0]):\n",
    "        if (np.mean(grayImageCollection[i-1,:,:])>Thresh and np.mean(grayImageCollection[i,:,:])<Thresh):\n",
    "            print(i)\n",
    "            if (i<10):\n",
    "                loadLaserImage=collectionDir+'00'+str(i)+'.jpg'\n",
    "            if (i>=9 and i<100):\n",
    "                loadLaserImage=collectionDir+'0'+str(i)+'.jpg'\n",
    "            if (i>=100):\n",
    "                loadLaserImage=collectionDir+str(i)+'.jpg'\n",
    "            print(loadLaserImage)\n",
    "#             print(loadLaserImage.shape)\n",
    "            blob=mainRosa(loadLaserImage)\n",
    "            if (blob['found'] == True):\n",
    "                temp[0,:,:]=grayImageCollection[i-1,:,:]\n",
    "                Image=np.vstack((Image,temp))\n",
    "                temp[0,:,:]=grayImageCollection[i,:,:]\n",
    "                laserImage=np.vstack((laserImage,temp))\n",
    "            \n",
    "#             print(blob)\n",
    "                print(i)\n",
    "                xCenter=np.hstack((xCenter,int(blob['center']['x']*Image.shape[2])))\n",
    "                yCenter=np.hstack((yCenter,int(blob['center']['y']*Image.shape[1])))\n",
    "                radius=np.hstack((radius,int(blob['radius']*image.shape[1])))\n",
    "                \n",
    "#     enter = (int(blob['center']['x']*image_size[1]), int(blob['center']['y']*image_size[0]))\n",
    "#     radius = int(blob['radius']*image_size[0])        \n",
    "            \n",
    "    print(Image.shape)\n",
    "    print(laserImage.shape)\n",
    "    print(xCenter.shape)\n",
    "    print(yCenter.shape)\n",
    "    print(radius.shape)\n",
    "    Image=np.delete(Image,0,axis=0)\n",
    "    laserImage=np.delete(laserImage,0,axis=0)\n",
    "#     print(Image.shape)\n",
    "#     print(laserImage.shape)\n",
    "    return Image,laserImage,xCenter,yCenter,radius\n",
    "\n",
    "\n",
    "\n",
    "def cross_image(im1, im2):\n",
    "   # get rid of the color channels by performing a grayscale transform\n",
    "   # the type cast into 'float' is to avoid overflows\n",
    "   # get rid of the averages, otherwise the results are not good\n",
    "   im1 -= np.mean(im1)\n",
    "   im2 -= np.mean(im2)\n",
    "   # calculate the correlation image; note the flipping of onw of the images\n",
    "   return scipy.signal.fftconvolve(im1, im2[::-1,::-1], mode='same')\n",
    "\n",
    "def ImageShift(Image):\n",
    "    Margin=250\n",
    "    N=100\n",
    "    temp=Image[:,Margin:Image.shape[1]-Margin,Margin:Image.shape[2]-Margin]\n",
    "    skeletonImage=np.zeros(Image.shape)\n",
    "    a=np.zeros(Image.shape)\n",
    "    indexShift=np.array([0,0])\n",
    "    totalShift=np.array([0,0])\n",
    "    for j in range(temp.shape[0]):\n",
    "        for i in range(temp.shape[1]):\n",
    "            y=np.convolve(temp[j,i,:], np.ones(N)/N, mode='valid')\n",
    "            peaks, properties = find_peaks(-y,distance=250,prominence=0.001)\n",
    "            skeletonImage[j,i+Margin,peaks+Margin]=1\n",
    "        for i in range(temp.shape[2]):\n",
    "            y=np.convolve(temp[j,:,i], np.ones(N)/N, mode='valid')\n",
    "            peaks, properties = find_peaks(-y,distance=250,prominence=0.001)\n",
    "            skeletonImage[j,peaks+Margin,i+Margin]=1\n",
    "\n",
    "        a[j,:,:]=ndimage.binary_closing(skeletonImage[j,:,:], structure=np.ones((20,20))).astype(np.int)\n",
    "\n",
    "        if (j>0):\n",
    "            out1=cross_image(a[j-1,:,:],a[j,:,:])\n",
    "            ind= np.unravel_index(np.argmax(out1, axis=None), out1.shape)\n",
    "            indexShift=np.vstack((indexShift,np.array(ind)-np.array([a.shape[1]/2,a.shape[2]/2])))\n",
    "            totalShift=np.vstack((totalShift,np.sum(indexShift,axis=0)))\n",
    "    return totalShift\n",
    "\n",
    "\n",
    "\n",
    "            \n",
    "\n",
    "# collectionDir = './zilia/20200228_140744_singe2/*.jpg'\n",
    "# collectionDir = './1111/*.jpg'\n",
    "# collectionDir = './2222/*.jpg'\n",
    "# collectionDir='./2222/'\n",
    "# collectionDir = './zilia/singe2/20200229_084156_singe2_scanRetine_day2/*.jpg'\n",
    "# collectionDir = './zilia/Singe3/oeilDroit_singe3/20200229_090916_spectro180_RLP20/*.jpg'\n",
    "# collectionDir = './zilia/Singe1/20200228_134918_/*.jpg'\n",
    "# collectionDir = './zilia/Singe1/20200229_081046_Scan_singe1_day2/*.jpg'\n",
    "# collectionDir = './zilia/Singe2/20200229_084156_singe2_scanRetine_day2/*.jpg'\n",
    "# collectionDir = './zilia/singe26/oeilDroit_singe26/20200303_100701_psr/*.jpg'\n",
    "collectionDir = './zilia/singe26/oeilDroit_singe26/20200303_100701_psr/'\n",
    "\n",
    "grayImage=np.array([])\n",
    "Image=np.array([])\n",
    "laser=np.array([])\n",
    "xLaser=np.array([])\n",
    "yLaser=np.array([])\n",
    "rLaser=np.array([])\n",
    "\n",
    "grayImage=loadImages(collectionDir)\n",
    "Image,laser,xLaser,yLaser,rLaser=seperateImages(grayImage,collectionDir)   \n",
    "Image,laser,xLaser,yLaser,rLaser=intensityCheck(Image,laser,xLaser,yLaser,rLaser)\n",
    "indexShift=ImageShift(Image)\n",
    "\n",
    "for j in range(Image.shape[0]):\n",
    "    window_name = 'Image'  \n",
    "    center_coordinates = (1000-int(indexShift[j,1]),1000-int(indexShift[j,0]))\n",
    "    radius = 30\n",
    "    # Blue color in BGR\n",
    "    color = (0, 255, 0)\n",
    "    # Line thickness of 2 px\n",
    "    thickness = 5\n",
    "    # Using cv2.circle() method\n",
    "    # Draw a circle with blue line borders of thickness of 2 px\n",
    "    image = cv2.circle(Image[j,:,:], center_coordinates, radius, color, thickness)\n",
    "    pyplot.imsave(str(2*j)+'.jpg',image)\n",
    "    \n",
    "    window_name = 'Image'  \n",
    "    center_coordinates = (int(xLaser[j]),int(yLaser[j]))\n",
    "    radius = int(rLaser[j])\n",
    "    # Blue color in BGR\n",
    "    color = (0, 0, 255)\n",
    "    # Line thickness of 2 px\n",
    "    thickness = 5\n",
    "    # Using cv2.circle() method\n",
    "    # Draw a circle with blue line borders of thickness of 2 px\n",
    "    image = cv2.circle(laser[j,:,:], center_coordinates, radius, color, thickness)\n",
    "    pyplot.imsave(str(2*j+1)+'.jpg',image)\n",
    "\n",
    "\n",
    "\n"
   ]
  },
  {
   "cell_type": "code",
   "execution_count": 52,
   "id": "criminal-reputation",
   "metadata": {},
   "outputs": [
    {
     "data": {
      "text/plain": [
       "(53, 2)"
      ]
     },
     "execution_count": 52,
     "metadata": {},
     "output_type": "execute_result"
    }
   ],
   "source": [
    "indexShift.shape"
   ]
  },
  {
   "cell_type": "code",
   "execution_count": 53,
   "id": "finite-friend",
   "metadata": {},
   "outputs": [
    {
     "data": {
      "text/plain": [
       "(53,)"
      ]
     },
     "execution_count": 53,
     "metadata": {},
     "output_type": "execute_result"
    }
   ],
   "source": [
    "xLaser.shape"
   ]
  },
  {
   "cell_type": "code",
   "execution_count": null,
   "id": "interracial-scheduling",
   "metadata": {},
   "outputs": [],
   "source": []
  }
 ],
 "metadata": {
  "kernelspec": {
   "display_name": "Python 3",
   "language": "python",
   "name": "python3"
  },
  "language_info": {
   "codemirror_mode": {
    "name": "ipython",
    "version": 3
   },
   "file_extension": ".py",
   "mimetype": "text/x-python",
   "name": "python",
   "nbconvert_exporter": "python",
   "pygments_lexer": "ipython3",
   "version": "3.9.0"
  }
 },
 "nbformat": 4,
 "nbformat_minor": 5
}
